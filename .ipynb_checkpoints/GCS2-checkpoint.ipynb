{
 "cells": [
  {
   "cell_type": "markdown",
   "id": "bc146223-0ca5-49df-8f3f-d1162db620d5",
   "metadata": {},
   "source": [
    "# DATA ANALYTICS CASE_STUDY (GOV)"
   ]
  },
  {
   "cell_type": "code",
   "execution_count": null,
   "id": "7dab4842-1096-4c07-9784-583beedd4bae",
   "metadata": {},
   "outputs": [],
   "source": []
  },
  {
   "cell_type": "markdown",
   "id": "a8905569-88a9-45c1-a23d-f2fb9642ba70",
   "metadata": {},
   "source": [
    "# V. ADITYA BHARADWAJ\n",
    "# 2211CS010585\n",
    "# GROUP 3"
   ]
  },
  {
   "cell_type": "code",
   "execution_count": null,
   "id": "7bc5131b-7b97-493d-8441-6f710e151b76",
   "metadata": {},
   "outputs": [],
   "source": []
  },
  {
   "cell_type": "markdown",
   "id": "56052668-3dd8-4b34-b288-3878c41d0324",
   "metadata": {},
   "source": [
    "**IMPORTING LIBRARIES**"
   ]
  },
  {
   "cell_type": "code",
   "execution_count": 1,
   "id": "e3d402b8-9f85-4147-b75a-15dd21bbff7a",
   "metadata": {},
   "outputs": [],
   "source": [
    "import pandas as pd\n",
    "import seaborn as sns\n",
    "import matplotlib.pyplot as plt"
   ]
  },
  {
   "cell_type": "markdown",
   "id": "f1563eea-bad2-48ac-9017-5bdc64e64f40",
   "metadata": {},
   "source": [
    "**Importing the dataset**\n"
   ]
  },
  {
   "cell_type": "code",
   "execution_count": 10,
   "id": "16f1f230-0f8f-4c14-9581-0d8459c3e98e",
   "metadata": {},
   "outputs": [
    {
     "data": {
      "text/html": [
       "<div>\n",
       "<style scoped>\n",
       "    .dataframe tbody tr th:only-of-type {\n",
       "        vertical-align: middle;\n",
       "    }\n",
       "\n",
       "    .dataframe tbody tr th {\n",
       "        vertical-align: top;\n",
       "    }\n",
       "\n",
       "    .dataframe thead th {\n",
       "        text-align: right;\n",
       "    }\n",
       "</style>\n",
       "<table border=\"1\" class=\"dataframe\">\n",
       "  <thead>\n",
       "    <tr style=\"text-align: right;\">\n",
       "      <th></th>\n",
       "      <th>Year</th>\n",
       "      <th>Total Fleet Size</th>\n",
       "      <th>A320-200</th>\n",
       "      <th>A321neo</th>\n",
       "      <th>ATR 72-600</th>\n",
       "      <th>Boeing 777-300ER</th>\n",
       "    </tr>\n",
       "  </thead>\n",
       "  <tbody>\n",
       "    <tr>\n",
       "      <th>0</th>\n",
       "      <td>2007-08</td>\n",
       "      <td>17</td>\n",
       "      <td>17</td>\n",
       "      <td>0</td>\n",
       "      <td>0</td>\n",
       "      <td>0</td>\n",
       "    </tr>\n",
       "    <tr>\n",
       "      <th>1</th>\n",
       "      <td>2008-09</td>\n",
       "      <td>19</td>\n",
       "      <td>19</td>\n",
       "      <td>0</td>\n",
       "      <td>0</td>\n",
       "      <td>0</td>\n",
       "    </tr>\n",
       "    <tr>\n",
       "      <th>2</th>\n",
       "      <td>2009-10</td>\n",
       "      <td>25</td>\n",
       "      <td>25</td>\n",
       "      <td>0</td>\n",
       "      <td>0</td>\n",
       "      <td>0</td>\n",
       "    </tr>\n",
       "    <tr>\n",
       "      <th>3</th>\n",
       "      <td>2010-11</td>\n",
       "      <td>38</td>\n",
       "      <td>38</td>\n",
       "      <td>0</td>\n",
       "      <td>0</td>\n",
       "      <td>0</td>\n",
       "    </tr>\n",
       "    <tr>\n",
       "      <th>4</th>\n",
       "      <td>2011-12</td>\n",
       "      <td>55</td>\n",
       "      <td>55</td>\n",
       "      <td>0</td>\n",
       "      <td>0</td>\n",
       "      <td>0</td>\n",
       "    </tr>\n",
       "    <tr>\n",
       "      <th>5</th>\n",
       "      <td>2012-13</td>\n",
       "      <td>66</td>\n",
       "      <td>66</td>\n",
       "      <td>0</td>\n",
       "      <td>0</td>\n",
       "      <td>0</td>\n",
       "    </tr>\n",
       "    <tr>\n",
       "      <th>6</th>\n",
       "      <td>2013-14</td>\n",
       "      <td>77</td>\n",
       "      <td>77</td>\n",
       "      <td>0</td>\n",
       "      <td>0</td>\n",
       "      <td>0</td>\n",
       "    </tr>\n",
       "    <tr>\n",
       "      <th>7</th>\n",
       "      <td>2014-15</td>\n",
       "      <td>94</td>\n",
       "      <td>94</td>\n",
       "      <td>0</td>\n",
       "      <td>0</td>\n",
       "      <td>0</td>\n",
       "    </tr>\n",
       "    <tr>\n",
       "      <th>8</th>\n",
       "      <td>2015-16</td>\n",
       "      <td>107</td>\n",
       "      <td>107</td>\n",
       "      <td>0</td>\n",
       "      <td>0</td>\n",
       "      <td>0</td>\n",
       "    </tr>\n",
       "    <tr>\n",
       "      <th>9</th>\n",
       "      <td>2016-17</td>\n",
       "      <td>131</td>\n",
       "      <td>131</td>\n",
       "      <td>0</td>\n",
       "      <td>0</td>\n",
       "      <td>0</td>\n",
       "    </tr>\n",
       "    <tr>\n",
       "      <th>10</th>\n",
       "      <td>2017-18</td>\n",
       "      <td>150</td>\n",
       "      <td>135</td>\n",
       "      <td>10</td>\n",
       "      <td>5</td>\n",
       "      <td>0</td>\n",
       "    </tr>\n",
       "    <tr>\n",
       "      <th>11</th>\n",
       "      <td>2018-19</td>\n",
       "      <td>175</td>\n",
       "      <td>140</td>\n",
       "      <td>20</td>\n",
       "      <td>15</td>\n",
       "      <td>0</td>\n",
       "    </tr>\n",
       "    <tr>\n",
       "      <th>12</th>\n",
       "      <td>2019-20</td>\n",
       "      <td>200</td>\n",
       "      <td>140</td>\n",
       "      <td>40</td>\n",
       "      <td>20</td>\n",
       "      <td>0</td>\n",
       "    </tr>\n",
       "    <tr>\n",
       "      <th>13</th>\n",
       "      <td>2020-21</td>\n",
       "      <td>225</td>\n",
       "      <td>140</td>\n",
       "      <td>60</td>\n",
       "      <td>25</td>\n",
       "      <td>0</td>\n",
       "    </tr>\n",
       "    <tr>\n",
       "      <th>14</th>\n",
       "      <td>2021-22</td>\n",
       "      <td>250</td>\n",
       "      <td>135</td>\n",
       "      <td>80</td>\n",
       "      <td>30</td>\n",
       "      <td>5</td>\n",
       "    </tr>\n",
       "    <tr>\n",
       "      <th>15</th>\n",
       "      <td>2022-23</td>\n",
       "      <td>275</td>\n",
       "      <td>130</td>\n",
       "      <td>100</td>\n",
       "      <td>35</td>\n",
       "      <td>10</td>\n",
       "    </tr>\n",
       "    <tr>\n",
       "      <th>16</th>\n",
       "      <td>2023-24</td>\n",
       "      <td>300</td>\n",
       "      <td>125</td>\n",
       "      <td>120</td>\n",
       "      <td>40</td>\n",
       "      <td>15</td>\n",
       "    </tr>\n",
       "    <tr>\n",
       "      <th>17</th>\n",
       "      <td>2024-25</td>\n",
       "      <td>325</td>\n",
       "      <td>120</td>\n",
       "      <td>140</td>\n",
       "      <td>45</td>\n",
       "      <td>20</td>\n",
       "    </tr>\n",
       "  </tbody>\n",
       "</table>\n",
       "</div>"
      ],
      "text/plain": [
       "       Year  Total Fleet Size  A320-200  A321neo  ATR 72-600  Boeing 777-300ER\n",
       "0   2007-08                17        17        0           0                 0\n",
       "1   2008-09                19        19        0           0                 0\n",
       "2   2009-10                25        25        0           0                 0\n",
       "3   2010-11                38        38        0           0                 0\n",
       "4   2011-12                55        55        0           0                 0\n",
       "5   2012-13                66        66        0           0                 0\n",
       "6   2013-14                77        77        0           0                 0\n",
       "7   2014-15                94        94        0           0                 0\n",
       "8   2015-16               107       107        0           0                 0\n",
       "9   2016-17               131       131        0           0                 0\n",
       "10  2017-18               150       135       10           5                 0\n",
       "11  2018-19               175       140       20          15                 0\n",
       "12  2019-20               200       140       40          20                 0\n",
       "13  2020-21               225       140       60          25                 0\n",
       "14  2021-22               250       135       80          30                 5\n",
       "15  2022-23               275       130      100          35                10\n",
       "16  2023-24               300       125      120          40                15\n",
       "17  2024-25               325       120      140          45                20"
      ]
     },
     "execution_count": 10,
     "metadata": {},
     "output_type": "execute_result"
    }
   ],
   "source": [
    "df = pd.read_csv(\"INDIGO_Fleet(2).csv\")\n",
    "df"
   ]
  },
  {
   "cell_type": "markdown",
   "id": "5e274fb9-b9ea-47bc-8b65-983f87f6a2e9",
   "metadata": {},
   "source": [
    "**Information of Data Frame**"
   ]
  },
  {
   "cell_type": "code",
   "execution_count": 11,
   "id": "48b0da95-9ac7-46d9-b5c2-d6cadf5e07aa",
   "metadata": {},
   "outputs": [
    {
     "name": "stdout",
     "output_type": "stream",
     "text": [
      "<class 'pandas.core.frame.DataFrame'>\n",
      "RangeIndex: 18 entries, 0 to 17\n",
      "Data columns (total 6 columns):\n",
      " #   Column            Non-Null Count  Dtype \n",
      "---  ------            --------------  ----- \n",
      " 0   Year              18 non-null     object\n",
      " 1   Total Fleet Size  18 non-null     int64 \n",
      " 2   A320-200          18 non-null     int64 \n",
      " 3   A321neo           18 non-null     int64 \n",
      " 4   ATR 72-600        18 non-null     int64 \n",
      " 5   Boeing 777-300ER  18 non-null     int64 \n",
      "dtypes: int64(5), object(1)\n",
      "memory usage: 996.0+ bytes\n"
     ]
    }
   ],
   "source": [
    "df.info()"
   ]
  },
  {
   "cell_type": "markdown",
   "id": "f725bc75-6fba-4887-86e5-71ee766f674e",
   "metadata": {},
   "source": [
    "**Understanding the Shape of the dataframe**"
   ]
  },
  {
   "cell_type": "code",
   "execution_count": 12,
   "id": "05ded3b8-76c3-40db-83ff-102b5d752a40",
   "metadata": {},
   "outputs": [
    {
     "data": {
      "text/plain": [
       "(18, 6)"
      ]
     },
     "execution_count": 12,
     "metadata": {},
     "output_type": "execute_result"
    }
   ],
   "source": [
    "df.shape"
   ]
  },
  {
   "cell_type": "markdown",
   "id": "76dbd12f-45f5-4bf5-8736-ea7aec067073",
   "metadata": {},
   "source": [
    "**Total data is considered for past 18 years**"
   ]
  },
  {
   "cell_type": "code",
   "execution_count": 16,
   "id": "713fcc92-407e-4f76-a8d3-85c92cf192e5",
   "metadata": {},
   "outputs": [
    {
     "data": {
      "text/plain": [
       "18"
      ]
     },
     "execution_count": 16,
     "metadata": {},
     "output_type": "execute_result"
    }
   ],
   "source": [
    "df['Year'].value_counts().sum()"
   ]
  },
  {
   "cell_type": "markdown",
   "id": "ec814c20-2b99-47e1-b453-6083c6a2c0f8",
   "metadata": {},
   "source": [
    "**Total Fleet Growth Over the Years**"
   ]
  },
  {
   "cell_type": "markdown",
   "id": "5b188669-9501-47a2-8429-3c789c0f6488",
   "metadata": {},
   "source": [
    "df[\"Fleet Growth\"] = df[\"Total Fleet Size\"].diff().fillna(0).astype(int)\n",
    "print(df[[\"Year\", \"Total Fleet Size\", \"Fleet Growth\"]])"
   ]
  },
  {
   "cell_type": "markdown",
   "id": "baf735db-a983-466e-b4e9-739e17c15b2b",
   "metadata": {},
   "source": [
    "**Average fleet size over time of Airbus 320**"
   ]
  },
  {
   "cell_type": "code",
   "execution_count": 20,
   "id": "9a2e0243-a24e-4eab-a057-ee798b074df4",
   "metadata": {},
   "outputs": [
    {
     "name": "stdout",
     "output_type": "stream",
     "text": [
      "A320-200: 94.11\n"
     ]
    }
   ],
   "source": [
    "avg_fleet_a320 = df[\"A320-200\"].mean()\n",
    "print(f\"A320-200: {avg_fleet_a320:.2f}\")"
   ]
  },
  {
   "cell_type": "markdown",
   "id": "04d5a042-ee0b-40ed-bb30-ce48edce6383",
   "metadata": {},
   "source": [
    "**Average fleet size over time of Airbus 321-Neo**"
   ]
  },
  {
   "cell_type": "code",
   "execution_count": 21,
   "id": "89baa8a8-cba0-4f63-8322-9c4271c984cc",
   "metadata": {},
   "outputs": [
    {
     "name": "stdout",
     "output_type": "stream",
     "text": [
      "A321neo: 31.67\n"
     ]
    }
   ],
   "source": [
    "avg_fleet_a321 = df[\"A321neo\"].mean()\n",
    "print(f\"A321neo: {avg_fleet_a321:.2f}\")"
   ]
  },
  {
   "cell_type": "markdown",
   "id": "fab73022-9ae4-46dd-9a1b-80aee43fcd2e",
   "metadata": {},
   "source": [
    "**Average fleet size over time of ATR 72-600**"
   ]
  },
  {
   "cell_type": "code",
   "execution_count": 23,
   "id": "769ef41f-9c23-416c-ac14-4ac6489dac96",
   "metadata": {},
   "outputs": [
    {
     "name": "stdout",
     "output_type": "stream",
     "text": [
      "ATR 72-600: 11.94\n"
     ]
    }
   ],
   "source": [
    "avg_fleet_atr = df[\"ATR 72-600\"].mean()\n",
    "print(f\"ATR 72-600: {avg_fleet_atr:.2f}\")\n"
   ]
  },
  {
   "cell_type": "markdown",
   "id": "a21b4c3e-da69-4c3a-9949-20cfbd328826",
   "metadata": {},
   "source": [
    "**Average fleet size over time of Boeing 777-300ER**"
   ]
  },
  {
   "cell_type": "code",
   "execution_count": 24,
   "id": "ad4d18b0-9f82-4fb8-bc4f-3ce74730390d",
   "metadata": {},
   "outputs": [
    {
     "name": "stdout",
     "output_type": "stream",
     "text": [
      "Boeing 777-300ER: 2.78\n"
     ]
    }
   ],
   "source": [
    "avg_fleet_b777 = df[\"Boeing 777-300ER\"].mean()\n",
    "print(f\"Boeing 777-300ER: {avg_fleet_b777:.2f}\")"
   ]
  },
  {
   "cell_type": "markdown",
   "id": "77e1cf36-dfb0-43ca-8df4-8abd3e46dd6e",
   "metadata": {},
   "source": [
    "**Year with the Highest Fleet Growth**"
   ]
  },
  {
   "cell_type": "code",
   "execution_count": 27,
   "id": "ea7e61b5-bcaf-421b-89a6-6eb16d2bc8fe",
   "metadata": {},
   "outputs": [
    {
     "data": {
      "text/plain": [
       "Year                2018-19\n",
       "Fleet Growth             25\n",
       "A320-200                140\n",
       "A321neo                  20\n",
       "ATR 72-600               15\n",
       "Boeing 777-300ER          0\n",
       "Name: 11, dtype: object"
      ]
     },
     "execution_count": 27,
     "metadata": {},
     "output_type": "execute_result"
    }
   ],
   "source": [
    "max_fleet_growth = df.loc[df[\"Fleet Growth\"].idxmax(), [\"Year\", \"Fleet Growth\", \"A320-200\", \"A321neo\", \"ATR 72-600\", \"Boeing 777-300ER\"]]\n",
    "max_fleet_growth"
   ]
  },
  {
   "cell_type": "markdown",
   "id": "e644fd03-88dc-462c-9af5-7a16f0f25691",
   "metadata": {},
   "source": [
    "**Years where at least one aircraft has more than 100 aircrafts**"
   ]
  },
  {
   "cell_type": "code",
   "execution_count": 32,
   "id": "4b6d35a4-b1c1-4ce2-b58f-b49bf4c835e9",
   "metadata": {},
   "outputs": [
    {
     "name": "stdout",
     "output_type": "stream",
     "text": [
      "Years where at least one aircraft has more than 100 aircrafts:\n",
      "        Year\n",
      "8   2015-16\n",
      "9   2016-17\n",
      "10  2017-18\n",
      "11  2018-19\n",
      "12  2019-20\n",
      "13  2020-21\n",
      "14  2021-22\n",
      "15  2022-23\n",
      "16  2023-24\n",
      "17  2024-25\n"
     ]
    }
   ],
   "source": [
    "greater_100 = df[df.iloc[:, 2:].gt(100).any(axis=1)][[\"Year\"]]\n",
    "print( greater_100)"
   ]
  },
  {
   "cell_type": "markdown",
   "id": "2217efa5-ea60-4fe8-a862-dd6e3e18df97",
   "metadata": {},
   "source": [
    "**Filter years where at least one aircraft has fleet size < 100**"
   ]
  },
  {
   "cell_type": "code",
   "execution_count": 33,
   "id": "ac1dded0-b471-4d1d-8acd-7f12c979dd05",
   "metadata": {},
   "outputs": [
    {
     "name": "stdout",
     "output_type": "stream",
     "text": [
      "Years where at least one aircraft has less than 100 aircrafts:\n",
      "   Year\n",
      "2007-08\n",
      "2008-09\n",
      "2009-10\n",
      "2010-11\n",
      "2011-12\n",
      "2012-13\n",
      "2013-14\n",
      "2014-15\n",
      "2015-16\n",
      "2016-17\n",
      "2017-18\n",
      "2018-19\n",
      "2019-20\n",
      "2020-21\n",
      "2021-22\n",
      "2022-23\n",
      "2023-24\n",
      "2024-25\n"
     ]
    }
   ],
   "source": [
    "years_less_100 = df[df.iloc[:, 2:].lt(100).any(axis=1)][[\"Year\"]]\n",
    "\n",
    "print(\"Years where at least one aircraft has less than 100 aircrafts:\")\n",
    "print(years_less_100.to_string(index=False))"
   ]
  },
  {
   "cell_type": "code",
   "execution_count": null,
   "id": "7f31515d-6721-410c-80a4-1a724da09969",
   "metadata": {},
   "outputs": [],
   "source": []
  },
  {
   "cell_type": "code",
   "execution_count": null,
   "id": "cbb8eb26-beda-44f6-93bb-4e2b6a12a5a4",
   "metadata": {},
   "outputs": [],
   "source": []
  },
  {
   "cell_type": "code",
   "execution_count": null,
   "id": "67155300-0fc7-4f07-8216-710963ca7348",
   "metadata": {},
   "outputs": [],
   "source": []
  }
 ],
 "metadata": {
  "kernelspec": {
   "display_name": "Python 3 (ipykernel)",
   "language": "python",
   "name": "python3"
  },
  "language_info": {
   "codemirror_mode": {
    "name": "ipython",
    "version": 3
   },
   "file_extension": ".py",
   "mimetype": "text/x-python",
   "name": "python",
   "nbconvert_exporter": "python",
   "pygments_lexer": "ipython3",
   "version": "3.12.7"
  }
 },
 "nbformat": 4,
 "nbformat_minor": 5
}
